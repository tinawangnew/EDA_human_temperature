{
 "cells": [
  {
   "cell_type": "markdown",
   "metadata": {},
   "source": [
    "# What is the True Normal Human Body Temperature? \n",
    "\n",
    "#### Background\n",
    "\n",
    "The mean normal body temperature was held to be 37$^{\\circ}$C or 98.6$^{\\circ}$F for more than 120 years since it was first conceptualized and reported by Carl Wunderlich in a famous 1868 book. But, is this value statistically correct?"
   ]
  },
  {
   "cell_type": "markdown",
   "metadata": {},
   "source": [
    "<h3>Exercises</h3>\n",
    "\n",
    "<p>In this exercise, you will analyze a dataset of human body temperatures and employ the concepts of hypothesis testing, confidence intervals, and statistical significance.</p>\n",
    "\n",
    "<p>Answer the following questions <b>in this notebook below and submit to your Github account</b>.</p> \n",
    "\n",
    "<ol>\n",
    "<li>  Is the distribution of body temperatures normal? \n",
    "    <ul>\n",
    "    <li> Although this is not a requirement for the Central Limit Theorem to hold (read the introduction on Wikipedia's page about the CLT carefully: https://en.wikipedia.org/wiki/Central_limit_theorem), it gives us some peace of mind that the population may also be normally distributed if we assume that this sample is representative of the population.\n",
    "    <li> Think about the way you're going to check for the normality of the distribution. Graphical methods are usually used first, but there are also other ways: https://en.wikipedia.org/wiki/Normality_test\n",
    "    </ul>\n",
    "<li>  Is the sample size large? Are the observations independent?\n",
    "    <ul>\n",
    "    <li> Remember that this is a condition for the Central Limit Theorem, and hence the statistical tests we are using, to apply.\n",
    "    </ul>\n",
    "<li>  Is the true population mean really 98.6 degrees F?\n",
    "    <ul>\n",
    "    <li> First, try a bootstrap hypothesis test.\n",
    "    <li> Now, let's try frequentist statistical testing. Would you use a one-sample or two-sample test? Why?\n",
    "    <li> In this situation, is it appropriate to use the $t$ or $z$ statistic? \n",
    "    <li> Now try using the other test. How is the result be different? Why?\n",
    "    </ul>\n",
    "<li>  Draw a small sample of size 10 from the data and repeat both frequentist tests. \n",
    "    <ul>\n",
    "    <li> Which one is the correct one to use? \n",
    "    <li> What do you notice? What does this tell you about the difference in application of the $t$ and $z$ statistic?\n",
    "    </ul>\n",
    "<li>  At what temperature should we consider someone's temperature to be \"abnormal\"?\n",
    "    <ul>\n",
    "    <li> As in the previous example, try calculating everything using the boostrap approach, as well as the frequentist approach.\n",
    "    <li> Start by computing the margin of error and confidence interval. When calculating the confidence interval, keep in mind that you should use the appropriate formula for one draw, and not N draws.\n",
    "    </ul>\n",
    "<li>  Is there a significant difference between males and females in normal temperature?\n",
    "    <ul>\n",
    "    <li> What testing approach did you use and why?\n",
    "    <li> Write a story with your conclusion in the context of the original problem.\n",
    "    </ul>\n",
    "</ol>\n",
    "\n",
    "You can include written notes in notebook cells using Markdown: \n",
    "   - In the control panel at the top, choose Cell > Cell Type > Markdown\n",
    "   - Markdown syntax: http://nestacms.com/docs/creating-content/markdown-cheat-sheet\n",
    "\n",
    "#### Resources\n",
    "\n",
    "+ Information and data sources: http://www.amstat.org/publications/jse/datasets/normtemp.txt, http://www.amstat.org/publications/jse/jse_data_archive.htm\n",
    "+ Markdown syntax: http://nestacms.com/docs/creating-content/markdown-cheat-sheet\n",
    "\n",
    "****"
   ]
  },
  {
   "cell_type": "code",
   "execution_count": 1,
   "metadata": {},
   "outputs": [],
   "source": [
    "import pandas as pd\n",
    "\n",
    "df = pd.read_csv('data/human_body_temperature.csv')"
   ]
  },
  {
   "cell_type": "markdown",
   "metadata": {},
   "source": [
    "#### 1. Is the distribution of body temperatures normal?"
   ]
  },
  {
   "cell_type": "code",
   "execution_count": 26,
   "metadata": {},
   "outputs": [
    {
     "data": {
      "text/html": [
       "<div>\n",
       "<style scoped>\n",
       "    .dataframe tbody tr th:only-of-type {\n",
       "        vertical-align: middle;\n",
       "    }\n",
       "\n",
       "    .dataframe tbody tr th {\n",
       "        vertical-align: top;\n",
       "    }\n",
       "\n",
       "    .dataframe thead th {\n",
       "        text-align: right;\n",
       "    }\n",
       "</style>\n",
       "<table border=\"1\" class=\"dataframe\">\n",
       "  <thead>\n",
       "    <tr style=\"text-align: right;\">\n",
       "      <th></th>\n",
       "      <th>temperature</th>\n",
       "      <th>gender</th>\n",
       "      <th>heart_rate</th>\n",
       "    </tr>\n",
       "  </thead>\n",
       "  <tbody>\n",
       "    <tr>\n",
       "      <th>0</th>\n",
       "      <td>99.3</td>\n",
       "      <td>F</td>\n",
       "      <td>68.0</td>\n",
       "    </tr>\n",
       "    <tr>\n",
       "      <th>1</th>\n",
       "      <td>98.4</td>\n",
       "      <td>F</td>\n",
       "      <td>81.0</td>\n",
       "    </tr>\n",
       "    <tr>\n",
       "      <th>2</th>\n",
       "      <td>97.8</td>\n",
       "      <td>M</td>\n",
       "      <td>73.0</td>\n",
       "    </tr>\n",
       "    <tr>\n",
       "      <th>3</th>\n",
       "      <td>99.2</td>\n",
       "      <td>F</td>\n",
       "      <td>66.0</td>\n",
       "    </tr>\n",
       "    <tr>\n",
       "      <th>4</th>\n",
       "      <td>98.0</td>\n",
       "      <td>F</td>\n",
       "      <td>73.0</td>\n",
       "    </tr>\n",
       "  </tbody>\n",
       "</table>\n",
       "</div>"
      ],
      "text/plain": [
       "   temperature gender  heart_rate\n",
       "0         99.3      F        68.0\n",
       "1         98.4      F        81.0\n",
       "2         97.8      M        73.0\n",
       "3         99.2      F        66.0\n",
       "4         98.0      F        73.0"
      ]
     },
     "execution_count": 26,
     "metadata": {},
     "output_type": "execute_result"
    }
   ],
   "source": [
    "df.head()\n",
    "#df.describe()"
   ]
  },
  {
   "cell_type": "code",
   "execution_count": 18,
   "metadata": {},
   "outputs": [
    {
     "name": "stdout",
     "output_type": "stream",
     "text": [
      "Populating the interactive namespace from numpy and matplotlib\n"
     ]
    },
    {
     "data": {
      "image/png": "[encoded data removed]",
      "text/plain": [
       "<Figure size 432x288 with 1 Axes>"
      ]
     },
     "metadata": {},
     "output_type": "display_data"
    },
    {
     "data": {
      "image/png": "[encoded data removed]",
      "text/plain": [
       "<Figure size 432x288 with 1 Axes>"
      ]
     },
     "metadata": {},
     "output_type": "display_data"
    },
    {
     "data": {
      "image/png": "[encoded data removed]",
      "text/plain": [
       "<Figure size 432x288 with 1 Axes>"
      ]
     },
     "metadata": {},
     "output_type": "display_data"
    }
   ],
   "source": [
    "# Your work here.\n",
    "# Using Scipy.stats and Haker stats of Numpy\n",
    "import numpy as np\n",
    "from scipy import stats\n",
    "#import matplot.pyplot as plt\n",
    "import seaborn as sn\n",
    "%pylab inline\n",
    "\n",
    "df.columns\n",
    "sn.set()\n",
    "df['temperature'].plot(kind='hist',normed=True)\n",
    "plt.xlabel('temperature')\n",
    "plt.show()\n",
    "\n",
    "# Define a function to calculator cdf of sample \n",
    "def ecdf(sample):\n",
    "    x=np.sort(sample)\n",
    "    y=np.arange(1, len(sample)+1)/len(sample)\n",
    "    return x,y\n",
    "\n",
    "# Plot cdf of 'temperature' \n",
    "temp_x, temp_y = ecdf(df['temperature'])\n",
    "_ = plt.plot(temp_x, temp_y, marker='.', linestyle='none', color='red')\n",
    "\n",
    "# Calculate the mean and std of 'temperture'\n",
    "m=np.mean(df['temperature'])\n",
    "v=np.std(df['temperature'])\n",
    "\n",
    "# Draw samples of the same size of 'temperature' from the normal distribution with the mean and std of 'temperture'. And calculate it's cdf.\n",
    "sim_sample_temp =  np.random.normal(m, v, len(df['temperature']))\n",
    "sim_sample_temp_x, sim_sample_temp_y = ecdf(sim_sample_temp)\n",
    "_ = plt.plot(sim_sample_temp_x, sim_sample_temp_y, marker='.', linestyle='none', color='blue')\n",
    "\n",
    "plt.show()\n",
    "\n",
    "res = stats.probplot(df['temperature'], plot=plt)"
   ]
  },
  {
   "cell_type": "code",
   "execution_count": 13,
   "metadata": {},
   "outputs": [
    {
     "data": {
      "text/plain": [
       "KstestResult(statistic=0.06385348427882753, pvalue=0.6645320172843266)"
      ]
     },
     "execution_count": 13,
     "metadata": {},
     "output_type": "execute_result"
    }
   ],
   "source": [
    "# Using K-S test to see if 'temperature' is normal distribution\n",
    "stats.kstest(df['temperature'],'norm',args=(m, v))"
   ]
  },
  {
   "cell_type": "markdown",
   "metadata": {},
   "source": [
    "#### From EDA plots, it looks like distribution of body temperatures could be normal. And further more, this hypothesis is tested and accepted by K-S test since p-value is greater than 0.05."
   ]
  },
  {
   "cell_type": "markdown",
   "metadata": {},
   "source": [
    "#### 2. Is the sample size large? Are the observations independent?\n",
    "##### The distribution of temperature mean is normal if the sample size is large enough and independent based on entral Limit Theorem. The analysis result shows that the sample size is large and indepedent."
   ]
  },
  {
   "cell_type": "code",
   "execution_count": 54,
   "metadata": {},
   "outputs": [
    {
     "data": {
      "text/plain": [
       "KstestResult(statistic=0.05115458133165551, pvalue=0.8856516847954676)"
      ]
     },
     "execution_count": 54,
     "metadata": {},
     "output_type": "execute_result"
    },
    {
     "data": {
      "image/png": "[encoded data removed]",
      "text/plain": [
       "<Figure size 432x288 with 1 Axes>"
      ]
     },
     "metadata": {},
     "output_type": "display_data"
    }
   ],
   "source": [
    "temperature=df['temperature']\n",
    "\n",
    "# Function for generating bootstrap repicates\n",
    "def draw_bs_reps(data, func, size=1):\n",
    "    \"\"\"Draw bootstrap replicates.\"\"\"\n",
    "\n",
    "    # Initialize array of replicates: bs_replicates\n",
    "    bs_replicates = np.empty(size)\n",
    "\n",
    "    # Generate replicates\n",
    "    for i in range(size):\n",
    "        bs_replicates[i] = func(np.random.choice(data, size=len(data)))\n",
    "\n",
    "    return bs_replicates\n",
    "\n",
    "bs_reps=draw_bs_reps(temperature,np.mean,len(temperature))\n",
    "\n",
    "# Testing to see if the distribution of temperature mean is normal\n",
    "res = stats.probplot(bs_reps, plot=plt)\n",
    "# Using K-S test to see if mean of 'temperature' is normal distribution\n",
    "stats.kstest(bs_reps,'norm',args=(np.mean(bs_reps), np.std(bs_reps)))"
   ]
  },
  {
   "cell_type": "markdown",
   "metadata": {},
   "source": [
    "#### 3. Is the true population mean really 98.6 degrees F?\n",
    "##### Null hypothesis is \" the true population mean really 98.6 degrees F\" here. Based on the analysis result, p-value is very small and less than 0.05, so the null hypothesis can not be accepted."
   ]
  },
  {
   "cell_type": "code",
   "execution_count": 82,
   "metadata": {
    "scrolled": false
   },
   "outputs": [
    {
     "name": "stdout",
     "output_type": "stream",
     "text": [
      "-5.4759252020785585\n",
      "0.0\n"
     ]
    }
   ],
   "source": [
    "# Using z statistic to do hypothesis test, null hypothesis is the true population mean is 98.6 degrees F is ture.\n",
    "# z statistic for observed temperature data set\n",
    "z=(m-98.6)/(v/np.sqrt(len(temperature)))\n",
    "print(z)\n",
    "\n",
    "# Define a function for generating bootstrap replicates for z statistic\n",
    "def draw_bs_z_reps(data, mu, size=1):\n",
    "    \"\"\"Draw bootstrap z statistic replicates.\"\"\"\n",
    "\n",
    "    # Initialize array of replicates: bs_replicates\n",
    "    bs_z_replicates = np.empty(size)\n",
    "\n",
    "    # Generate replicates\n",
    "    for i in range(size):\n",
    "        draw_data = np.random.choice(data, size=len(data))\n",
    "        bs_z_replicates[i] = (np.mean(draw_data)-mu)/(np.std(draw_data)/np.sqrt(len(draw_data)))\n",
    "                                                      \n",
    "    return bs_z_replicates\n",
    "    \n",
    "# Shift temperature under null hypothesis\n",
    "tempShifted = df['temperature'] - m + 98.6\n",
    "\n",
    "# Generating bootstrap replicates for z statistic\n",
    "bs_temp_reps = draw_bs_z_reps(tempShifted, 98.6, size=1000)\n",
    "# Compute p-value\n",
    "p = np.sum(bs_temp_reps <= z)/1000\n",
    "print(p)\n",
    "\n",
    "# If using mean as the test statistic, the codes are as follows.\n",
    "#bs_temp_reps = draw_bs_reps(tempShifted, np.mean, size=1000)\n",
    "#bs_temp_reps = draw_bs_reps(tempShifted, z_stat_fun, size=1000)\n",
    "#p = np.sum(bs_temp_reps <= m)/1000\n",
    "\n",
    "# If using SciPy instead of hiker statistic of NumPy, the code is as follows.\n",
    "#stats.ttest_1samp(df['temperature'], 98.6)\n"
   ]
  },
  {
   "cell_type": "markdown",
   "metadata": {},
   "source": [
    "<h4> 4. Draw a small sample of size 10 from the data and repeat both frequentist tests.\n",
    "    <ul>\n",
    "    <li> Which one is the correct one to use? \n",
    "    <li> What do you notice? What does this tell you about the difference in application of the $t$ and $z$ statistic?\n",
    "    </ul>\n",
    "</h4>    \n",
    "1) Assumptions of t statistic\n",
    "    <ul>\n",
    "    <li> Sample size is less than 30.\n",
    "    <li> Population variance is unknown\n",
    "    </ul>\n",
    "\n",
    "2) Assumptions of z statistic\n",
    "    <ul>\n",
    "    <li> Sample size is exceeding 30\n",
    "    <li> Population variance is known. But if population variance is unknown, it can be replaced with sample standard deviation.\n",
    "    </ul>\n",
    "        \n",
    "Based on the above rules, t-test should be used here. But since population standard deviation is unknown, the same calculation result is expected using either t statistic or z statistic. "
   ]
  },
  {
   "cell_type": "markdown",
   "metadata": {},
   "source": [
    "<h4> 5. At what temperature should we consider someone's temperature to be \"abnormal\"?<h4>\n",
    "    <ul>\n",
    "    <li> As in the previous example, try calculating everything using the boostrap approach, as well as the frequentist approach.\n",
    "    <li> Start by computing the margin of error and confidence interval. When calculating the confidence interval, keep in mind that you should use the appropriate formula for one draw, and not N draws.\n",
    "    </ul>\n",
    "</h4>\n",
    "    \n",
    "If the temperatuer is outside of temperature CI, it is considered to be \"abnormal\"."
   ]
  },
  {
   "cell_type": "code",
   "execution_count": 89,
   "metadata": {},
   "outputs": [
    {
     "name": "stdout",
     "output_type": "stream",
     "text": [
      "The temperature CI using bootstrap approach:  [98.11709615 98.38092308]\n",
      "The temperature CI using frequentist approach:  [98.18517415 98.31328738]\n"
     ]
    }
   ],
   "source": [
    "# temperature - sample data set, m - sample mean, v = sample standard deviation, bs_reps - bootstap samples for temperature mean\n",
    "\n",
    "# Calculate the CI using bootstrap approach\n",
    "bs_CI = np.percentile(bs_reps,[2.5,97.5])\n",
    "print(\"The temperature CI using bootstrap approach: \",bs_CI)\n",
    "\n",
    "# Calculate the CI using frequentist approach\n",
    "sem = np.std(temperature) / np.sqrt(len(temperature))\n",
    "low_lim = m-sem\n",
    "upper_lim = m+sem\n",
    "print(\"The temperature CI using frequentist approach: \",np.array([low_lim, upper_lim]))"
   ]
  },
  {
   "cell_type": "markdown",
   "metadata": {},
   "source": [
    "<h4> 6. Is there a significant difference between males and females in normal temperature?\n",
    "    <ul>\n",
    "    <li> What testing approach did you use and why?\n",
    "    <li> Write a story with your conclusion in the context of the original problem.\n",
    "    </ul>\n",
    "</h4>"
   ]
  },
  {
   "cell_type": "code",
   "execution_count": 107,
   "metadata": {},
   "outputs": [
    {
     "name": "stdout",
     "output_type": "stream",
     "text": [
      "98.39384615384614 98.10461538461537\n"
     ]
    },
    {
     "data": {
      "image/png": "[encoded data removed]",
      "text/plain": [
       "<Figure size 432x288 with 1 Axes>"
      ]
     },
     "metadata": {},
     "output_type": "display_data"
    },
    {
     "data": {
      "image/png": "[encoded data removed]",
      "text/plain": [
       "<Figure size 432x288 with 1 Axes>"
      ]
     },
     "metadata": {},
     "output_type": "display_data"
    }
   ],
   "source": [
    "#split df into two groups per gender\n",
    "temp_f = df[df.gender == 'F']\n",
    "temp_f.head()\n",
    "temp_m = df[df.gender == 'M']\n",
    "mean_f_temp = np.mean(temp_f['temperature'])\n",
    "mean_m_temp = np.mean(temp_m['temperature'])\n",
    "print(mean_f_temp,mean_m_temp)\n",
    "\n",
    "# EDA\n",
    "ecdf_f, ecdf_y_f = ecdf(temp_f['temperature'])\n",
    "_ = plt.plot(ecdf_f,ecdf_y_f,marker='.',linestyle='none', color='green')\n",
    "ecdf_m, ecdf_y_m = ecdf(temp_f['temperature'])\n",
    "_ = plt.plot(ecdf_m,ecdf_y_m,marker='.',linestyle='none', color='red')\n",
    "_ = plt.xlabel('temperature')\n",
    "_ = plt.ylabel('probability')\n",
    "\n",
    "plt.show()\n",
    "\n",
    "_ = sn.swarmplot(x='gender', y='temperature',data=df)\n",
    "_ = plt.xlabel('gender')\n",
    "_ = plt.ylabel('temperature')\n",
    "plt.show()"
   ]
  },
  {
   "cell_type": "markdown",
   "metadata": {},
   "source": [
    "<h4> Significant difference in temperature between females and males is not showed from ECDF plot. But from the swarm plot, it looks like females have higer mean temperature. Need to do Hypothesis Test. \n",
    "    <li>H0: f_meanTemp_pl - m_meantemp_pl = 0\n",
    "    <li>H1: f_meanTemp_pl - m_meantemp_pl > 0"
   ]
  },
  {
   "cell_type": "code",
   "execution_count": 118,
   "metadata": {},
   "outputs": [
    {
     "name": "stdout",
     "output_type": "stream",
     "text": [
      "p-value:  0.009\n"
     ]
    }
   ],
   "source": [
    "# Hypothesis tesing using bootstrap approach\n",
    "\n",
    "def permutation_sample(data1, data2):\n",
    "    \"\"\"Generate a permutation sample from two data sets.\"\"\"\n",
    "\n",
    "    # Concatenate the data sets: data\n",
    "    data = np.concatenate((data1,data2))\n",
    "\n",
    "    # Permute the concatenated array: permuted_data\n",
    "    permuted_data = np.random.permutation(data)\n",
    "\n",
    "    # Split the permuted array into two: perm_sample_1, perm_sample_2\n",
    "    perm_sample_1 = permuted_data[:len(data1)]\n",
    "    perm_sample_2 = permuted_data[len(data1):]\n",
    "\n",
    "    return perm_sample_1, perm_sample_2\n",
    "\n",
    "# Generating permutation replicates\n",
    "def draw_perm_reps(data_1, data_2, func, size=1):\n",
    "    \"\"\"Generate multiple permutation replicates.\"\"\"\n",
    "\n",
    "    # Initialize array of replicates: perm_replicates\n",
    "    perm_replicates = np.empty(size)\n",
    "\n",
    "    for i in range(size):\n",
    "        # Generate permutation sample\n",
    "        perm_sample_1, perm_sample_2 = permutation_sample(data_1,data_2)\n",
    "\n",
    "        # Compute the test statistic\n",
    "        perm_replicates[i] = func(perm_sample_1,perm_sample_2)\n",
    "\n",
    "    return perm_replicates\n",
    "\n",
    "def diff_of_means(data_1, data_2):\n",
    "    \"\"\"Difference in means of two arrays.\"\"\"\n",
    "\n",
    "    # The difference of means of data_1, data_2: diff\n",
    "    diff = np.mean(data_1)-np.mean(data_2)\n",
    "\n",
    "    return diff\n",
    "\n",
    "# Observed mean temperature difference between females and males\n",
    "mean_diff_obs = mean_f_temp - mean_m_temp\n",
    "\n",
    "# Bootstrap replicates of mean temperature difference between females and males\n",
    "perm_reps = draw_perm_reps(temp_f['temperature'], temp_m['temperature'], diff_of_means, size = 1000)\n",
    "\n",
    "#p-value\n",
    "p = np.sum(perm_reps >= mean_diff_obs)/len(perm_reps)\n",
    "print(\"p-value: \",p)\n",
    "\n"
   ]
  },
  {
   "cell_type": "markdown",
   "metadata": {},
   "source": [
    "<h4>Since p-value is less than 0.05, H0 is rejected."
   ]
  },
  {
   "cell_type": "code",
   "execution_count": 119,
   "metadata": {},
   "outputs": [],
   "source": [
    "# Frequentist approach"
   ]
  },
  {
   "cell_type": "code",
   "execution_count": null,
   "metadata": {},
   "outputs": [],
   "source": []
  }
 ],
 "metadata": {
  "kernelspec": {
   "display_name": "Python 3",
   "language": "python",
   "name": "python3"
  },
  "language_info": {
   "codemirror_mode": {
    "name": "ipython",
    "version": 3
   },
   "file_extension": ".py",
   "mimetype": "text/x-python",
   "name": "python",
   "nbconvert_exporter": "python",
   "pygments_lexer": "ipython3",
   "version": "3.7.0"
  }
 },
 "nbformat": 4,
 "nbformat_minor": 1
}
